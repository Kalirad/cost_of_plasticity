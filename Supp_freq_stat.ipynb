{
 "cells": [
  {
   "cell_type": "markdown",
   "id": "11d489f5-6de1-4356-ba5e-1e580a8009d6",
   "metadata": {},
   "source": [
    "# Rates of II accumulation\n",
    "\n",
    "We analyze the data in figure 2 and 3 using R.\n",
    "\n",
    "This is a supplement to the Bayesian approach used in the main text to compare two groups. For any two samples that fail the Shapiro–Wilk normality test, we use the Mann-Whitney test instead of Student's t test."
   ]
  },
  {
   "cell_type": "code",
   "execution_count": 1,
   "id": "42a43822-1d35-4112-9789-8770dce496c1",
   "metadata": {},
   "outputs": [],
   "source": [
    "library(\"readxl\")"
   ]
  },
  {
   "cell_type": "markdown",
   "id": "bde055cf-dba6-49ea-8bad-bc3455558d13",
   "metadata": {
    "tags": []
   },
   "source": [
    "## Figure 2b"
   ]
  },
  {
   "cell_type": "code",
   "execution_count": 2,
   "id": "f01f0e82-ad2f-491d-b91f-f256109df74f",
   "metadata": {},
   "outputs": [],
   "source": [
    "df <- read_excel(\"./raw_data/fig2/fecundity_within_strain.xlsx\")"
   ]
  },
  {
   "cell_type": "markdown",
   "id": "9981c74f-8c1c-4f21-b6c1-8d2e350623b7",
   "metadata": {
    "tags": []
   },
   "source": [
    "### RSA1113"
   ]
  },
  {
   "cell_type": "code",
   "execution_count": 3,
   "id": "8fb3cb77-38b2-4df6-8276-ccda00546c31",
   "metadata": {},
   "outputs": [
    {
     "data": {
      "text/plain": [
       "\n",
       "\tShapiro-Wilk normality test\n",
       "\n",
       "data:  sample_1\n",
       "W = 0.95572, p-value = 0.02916\n"
      ]
     },
     "metadata": {},
     "output_type": "display_data"
    },
    {
     "data": {
      "text/plain": [
       "\n",
       "\tShapiro-Wilk normality test\n",
       "\n",
       "data:  sample_2\n",
       "W = 0.98254, p-value = 0.5564\n"
      ]
     },
     "metadata": {},
     "output_type": "display_data"
    },
    {
     "data": {
      "text/plain": [
       "\n",
       "\tWilcoxon rank sum test with continuity correction\n",
       "\n",
       "data:  sample_1 and sample_2\n",
       "W = 1359.5, p-value = 0.0293\n",
       "alternative hypothesis: true location shift is not equal to 0\n"
      ]
     },
     "metadata": {},
     "output_type": "display_data"
    }
   ],
   "source": [
    "sample_1 <- df$Fecundity[df$Strain=='RSA622' & df$MF=='Eu'];\n",
    "sample_2 <- df$Fecundity[df$Strain=='RSA622' & df$MF=='St']\n",
    "\n",
    "shapiro.test(sample_1);shapiro.test(sample_2)\n",
    "\n",
    "wilcox.test(sample_1, sample_2)"
   ]
  },
  {
   "cell_type": "markdown",
   "id": "ebd53ea3-2869-4d50-bbf3-c982e8de427c",
   "metadata": {
    "tags": []
   },
   "source": [
    "### RSC019"
   ]
  },
  {
   "cell_type": "code",
   "execution_count": 4,
   "id": "16c166fe-8073-42c6-be76-c7ddb90ebfc7",
   "metadata": {},
   "outputs": [
    {
     "data": {
      "text/plain": [
       "\n",
       "\tShapiro-Wilk normality test\n",
       "\n",
       "data:  sample_1\n",
       "W = 0.9674, p-value = 0.1479\n"
      ]
     },
     "metadata": {},
     "output_type": "display_data"
    },
    {
     "data": {
      "text/plain": [
       "\n",
       "\tShapiro-Wilk normality test\n",
       "\n",
       "data:  sample_2\n",
       "W = 0.98314, p-value = 0.6547\n"
      ]
     },
     "metadata": {},
     "output_type": "display_data"
    },
    {
     "data": {
      "text/plain": [
       "\n",
       "\tWilcoxon rank sum test with continuity correction\n",
       "\n",
       "data:  sample_1 and sample_2\n",
       "W = 597, p-value = 2.061e-07\n",
       "alternative hypothesis: true location shift is not equal to 0\n"
      ]
     },
     "metadata": {},
     "output_type": "display_data"
    }
   ],
   "source": [
    "sample_1 <- df$Fecundity[df$Strain=='RSC019' & df$MF=='Eu']\n",
    "sample_2 <- df$Fecundity[df$Strain=='RSC019' & df$MF=='St']\n",
    "\n",
    "shapiro.test(sample_1);shapiro.test(sample_2)\n",
    "\n",
    "wilcox.test(sample_1, sample_2)"
   ]
  },
  {
   "cell_type": "markdown",
   "id": "eb389188-d501-4d83-b6ca-9db623876800",
   "metadata": {
    "tags": []
   },
   "source": [
    "### RSC033"
   ]
  },
  {
   "cell_type": "code",
   "execution_count": 5,
   "id": "bd69b505-fae4-4996-8b6b-c9c0f1604d42",
   "metadata": {},
   "outputs": [
    {
     "data": {
      "text/plain": [
       "\n",
       "\tShapiro-Wilk normality test\n",
       "\n",
       "data:  sample_1\n",
       "W = 0.96563, p-value = 0.1232\n"
      ]
     },
     "metadata": {},
     "output_type": "display_data"
    },
    {
     "data": {
      "text/plain": [
       "\n",
       "\tShapiro-Wilk normality test\n",
       "\n",
       "data:  sample_2\n",
       "W = 0.95777, p-value = 0.08772\n"
      ]
     },
     "metadata": {},
     "output_type": "display_data"
    },
    {
     "data": {
      "text/plain": [
       "\n",
       "\tWilcoxon rank sum test with continuity correction\n",
       "\n",
       "data:  sample_1 and sample_2\n",
       "W = 807, p-value = 0.001676\n",
       "alternative hypothesis: true location shift is not equal to 0\n"
      ]
     },
     "metadata": {},
     "output_type": "display_data"
    }
   ],
   "source": [
    "sample_1 <- df$Fecundity[df$Strain=='RSC033' & df$MF=='Eu']\n",
    "sample_2 <- df$Fecundity[df$Strain=='RSC033' & df$MF=='St']\n",
    "\n",
    "shapiro.test(sample_1);shapiro.test(sample_2)\n",
    "\n",
    "wilcox.test(sample_1, sample_2)"
   ]
  },
  {
   "cell_type": "markdown",
   "id": "ec9a38f8-78d7-4ef2-86fa-6699f15baa39",
   "metadata": {
    "tags": []
   },
   "source": [
    "## Figure 2d"
   ]
  },
  {
   "cell_type": "code",
   "execution_count": 6,
   "id": "107c37aa-ce33-440d-b912-574414f2d438",
   "metadata": {},
   "outputs": [],
   "source": [
    "df <- read_excel('./raw_data/fig2/fecundity_between_strains.xlsx', col_names=c('Strain', 'ProgenyCount', 'Clade', 'MF'),skip = 1)"
   ]
  },
  {
   "cell_type": "markdown",
   "id": "0d877f44-b7b4-49a5-ade8-fd2630cb86ff",
   "metadata": {
    "tags": []
   },
   "source": [
    "### RSC011 vs RSA076"
   ]
  },
  {
   "cell_type": "code",
   "execution_count": 7,
   "id": "e0bf89d6-006d-4c20-8c0a-0e8aa2c36d05",
   "metadata": {},
   "outputs": [
    {
     "data": {
      "text/plain": [
       "\n",
       "\tShapiro-Wilk normality test\n",
       "\n",
       "data:  sample_1\n",
       "W = 0.93913, p-value = 0.02934\n"
      ]
     },
     "metadata": {},
     "output_type": "display_data"
    },
    {
     "data": {
      "text/plain": [
       "\n",
       "\tShapiro-Wilk normality test\n",
       "\n",
       "data:  sample_2\n",
       "W = 0.84646, p-value = 7.392e-05\n"
      ]
     },
     "metadata": {},
     "output_type": "display_data"
    },
    {
     "data": {
      "text/plain": [
       "\n",
       "\tWilcoxon rank sum test with continuity correction\n",
       "\n",
       "data:  sample_1 and sample_2\n",
       "W = 1067, p-value = 0.01986\n",
       "alternative hypothesis: true location shift is not equal to 0\n"
      ]
     },
     "metadata": {},
     "output_type": "display_data"
    }
   ],
   "source": [
    "sample_1 <- df$ProgenyCount[df$Strain=='RSC011']\n",
    "sample_2 <- df$ProgenyCount[df$Strain=='RSA076']\n",
    "\n",
    "shapiro.test(sample_1);shapiro.test(sample_2)\n",
    "\n",
    "wilcox.test(sample_1, sample_2, exact = FALSE)"
   ]
  },
  {
   "cell_type": "markdown",
   "id": "7a8ebcc4-3157-4752-b865-aebcf2efbc2c",
   "metadata": {
    "tags": []
   },
   "source": [
    "### RSC017 vs RS5405"
   ]
  },
  {
   "cell_type": "code",
   "execution_count": 9,
   "id": "d2a319ac-5bfb-4d37-8074-33ef00c649b5",
   "metadata": {},
   "outputs": [
    {
     "data": {
      "text/plain": [
       "\n",
       "\tShapiro-Wilk normality test\n",
       "\n",
       "data:  sample_1\n",
       "W = 0.91311, p-value = 0.004706\n"
      ]
     },
     "metadata": {},
     "output_type": "display_data"
    },
    {
     "data": {
      "text/plain": [
       "\n",
       "\tShapiro-Wilk normality test\n",
       "\n",
       "data:  sample_2\n",
       "W = 0.95422, p-value = 0.106\n"
      ]
     },
     "metadata": {},
     "output_type": "display_data"
    },
    {
     "data": {
      "text/plain": [
       "\n",
       "\tWilcoxon rank sum test with continuity correction\n",
       "\n",
       "data:  sample_1 and sample_2\n",
       "W = 1196.5, p-value = 0.0001384\n",
       "alternative hypothesis: true location shift is not equal to 0\n"
      ]
     },
     "metadata": {},
     "output_type": "display_data"
    }
   ],
   "source": [
    "sample_1 <- df$ProgenyCount[df$Strain=='RSC017']\n",
    "sample_2 <- df$ProgenyCount[df$Strain=='RS5405']\n",
    "\n",
    "shapiro.test(sample_1);shapiro.test(sample_2);\n",
    "\n",
    "wilcox.test(sample_1, sample_2, exact = FALSE)"
   ]
  },
  {
   "cell_type": "markdown",
   "id": "4578b8fe-5705-4783-a063-65dfe47fb3f0",
   "metadata": {},
   "source": [
    "## Figure 3b"
   ]
  },
  {
   "cell_type": "code",
   "execution_count": 11,
   "id": "dfa424a2-729b-48f5-b7f5-b460efa85792",
   "metadata": {},
   "outputs": [],
   "source": [
    "df <- read_excel('./raw_data/fig3/fecundity_novo_op50.xlsx', col_names=c('WormID', 'strain', 'fecundity', 'CultureCondition'),skip = 1)"
   ]
  },
  {
   "cell_type": "markdown",
   "id": "96ce38eb-b1be-4c8c-b826-1f81d3177ab2",
   "metadata": {},
   "source": [
    "### RSC017"
   ]
  },
  {
   "cell_type": "code",
   "execution_count": 20,
   "id": "306103c2-6eb3-4f90-bab6-5373956f9d0d",
   "metadata": {},
   "outputs": [
    {
     "data": {
      "text/plain": [
       "\n",
       "\tShapiro-Wilk normality test\n",
       "\n",
       "data:  sample_1\n",
       "W = 0.97212, p-value = 0.3183\n"
      ]
     },
     "metadata": {},
     "output_type": "display_data"
    },
    {
     "data": {
      "text/plain": [
       "\n",
       "\tShapiro-Wilk normality test\n",
       "\n",
       "data:  sample_2\n",
       "W = 0.91311, p-value = 0.004706\n"
      ]
     },
     "metadata": {},
     "output_type": "display_data"
    },
    {
     "data": {
      "text/plain": [
       "\n",
       "\tWilcoxon rank sum test with continuity correction\n",
       "\n",
       "data:  sample_1 and sample_2\n",
       "W = 219, p-value = 8.373e-10\n",
       "alternative hypothesis: true location shift is not equal to 0\n"
      ]
     },
     "metadata": {},
     "output_type": "display_data"
    }
   ],
   "source": [
    "sample_1 <- df$fecundity[df$strain=='RSC017' & df$CultureCondition=='Novosphingobium sp.']\n",
    "sample_2 <- df$fecundity[df$strain=='RSC017' & df$CultureCondition=='E. coli']\n",
    "\n",
    "shapiro.test(sample_1);shapiro.test(sample_2)\n",
    "\n",
    "wilcox.test(sample_1, sample_2, exact = FALSE)"
   ]
  },
  {
   "cell_type": "markdown",
   "id": "b24fc13c-d02a-497b-8abe-3da7c647a6d6",
   "metadata": {
    "tags": []
   },
   "source": [
    "### RSC019"
   ]
  },
  {
   "cell_type": "code",
   "execution_count": 21,
   "id": "cec96246-0978-4e6a-9aff-baf02092a4f9",
   "metadata": {},
   "outputs": [
    {
     "data": {
      "text/plain": [
       "\n",
       "\tShapiro-Wilk normality test\n",
       "\n",
       "data:  sample_1\n",
       "W = 0.91139, p-value = 0.002186\n"
      ]
     },
     "metadata": {},
     "output_type": "display_data"
    },
    {
     "data": {
      "text/plain": [
       "\n",
       "\tShapiro-Wilk normality test\n",
       "\n",
       "data:  sample_2\n",
       "W = 0.9681, p-value = 0.2134\n"
      ]
     },
     "metadata": {},
     "output_type": "display_data"
    },
    {
     "data": {
      "text/plain": [
       "\n",
       "\tWilcoxon rank sum test with continuity correction\n",
       "\n",
       "data:  sample_1 and sample_2\n",
       "W = 1663.5, p-value = 7.379e-06\n",
       "alternative hypothesis: true location shift is not equal to 0\n"
      ]
     },
     "metadata": {},
     "output_type": "display_data"
    }
   ],
   "source": [
    "sample_1 <- df$fecundity[df$strain=='RSC019' & df$CultureCondition=='Novosphingobium sp.']\n",
    "sample_2 <- df$fecundity[df$strain=='RSC019' & df$CultureCondition=='E. coli']\n",
    "\n",
    "shapiro.test(sample_1);shapiro.test(sample_2)\n",
    "\n",
    "wilcox.test(sample_1, sample_2, exact = FALSE)"
   ]
  },
  {
   "cell_type": "markdown",
   "id": "8076c8f0-c9a9-43af-a3da-5a6da34ce27f",
   "metadata": {},
   "source": [
    "### RS5405"
   ]
  },
  {
   "cell_type": "code",
   "execution_count": 22,
   "id": "18e496a1-8bfe-4159-bf53-6e2f47cbed85",
   "metadata": {},
   "outputs": [
    {
     "data": {
      "text/plain": [
       "\n",
       "\tShapiro-Wilk normality test\n",
       "\n",
       "data:  sample_1\n",
       "W = 0.98067, p-value = 0.6737\n"
      ]
     },
     "metadata": {},
     "output_type": "display_data"
    },
    {
     "data": {
      "text/plain": [
       "\n",
       "\tShapiro-Wilk normality test\n",
       "\n",
       "data:  sample_2\n",
       "W = 0.95422, p-value = 0.106\n"
      ]
     },
     "metadata": {},
     "output_type": "display_data"
    },
    {
     "data": {
      "text/plain": [
       "\n",
       "\tWilcoxon rank sum test with continuity correction\n",
       "\n",
       "data:  sample_1 and sample_2\n",
       "W = 1319, p-value = 2.925e-05\n",
       "alternative hypothesis: true location shift is not equal to 0\n"
      ]
     },
     "metadata": {},
     "output_type": "display_data"
    }
   ],
   "source": [
    "sample_1 <- df$fecundity[df$strain=='RS5405' & df$CultureCondition=='Novosphingobium sp.']\n",
    "sample_2 <- df$fecundity[df$strain=='RS5405' & df$CultureCondition=='E. coli']\n",
    "\n",
    "shapiro.test(sample_1);shapiro.test(sample_2)\n",
    "\n",
    "wilcox.test(sample_1, sample_2, exact = FALSE)"
   ]
  },
  {
   "cell_type": "code",
   "execution_count": null,
   "id": "c354e1b7-1652-4629-a9d2-d19fa1ce11c4",
   "metadata": {},
   "outputs": [],
   "source": []
  }
 ],
 "metadata": {
  "kernelspec": {
   "display_name": "R",
   "language": "R",
   "name": "ir"
  },
  "language_info": {
   "codemirror_mode": "r",
   "file_extension": ".r",
   "mimetype": "text/x-r-source",
   "name": "R",
   "pygments_lexer": "r",
   "version": "3.6.3"
  }
 },
 "nbformat": 4,
 "nbformat_minor": 5
}
